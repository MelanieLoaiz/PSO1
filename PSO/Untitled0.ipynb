{
  "nbformat": 4,
  "nbformat_minor": 0,
  "metadata": {
    "colab": {
      "provenance": []
    },
    "kernelspec": {
      "name": "python3",
      "display_name": "Python 3"
    },
    "language_info": {
      "name": "python"
    }
  },
  "cells": [
    {
      "cell_type": "code",
      "execution_count": 3,
      "metadata": {
        "id": "wUdFmAi_lv3T",
        "colab": {
          "base_uri": "https://localhost:8080/"
        },
        "outputId": "26d3c2e8-5ec3-4bbb-b257-bb61b23b0b25"
      },
      "outputs": [
        {
          "output_type": "stream",
          "name": "stdout",
          "text": [
            "File: /Datasets/clickbait-headlines.tsv \n",
            "Size: 0.54 MBs\n"
          ]
        }
      ],
      "source": [
        "import os\n",
        "dataset_filename = \"/Datasets/clickbait-headlines.tsv\"\n",
        "print(\"File: {} \\nSize: {} MBs\".format(dataset_filename, round(os.path.getsize(dataset_filename)/1024/1024, 2)))"
      ]
    },
    {
      "cell_type": "code",
      "source": [
        "import csv\n",
        "\n",
        "data = []\n",
        "labels = []\n",
        "\n",
        "with open(dataset_filename,encoding=\"utf8\") as f:\n",
        "    reader = csv.reader(f, delimiter=\"\\t\")\n",
        "    for line in reader:\n",
        "        try:\n",
        "            data.append(line[0])\n",
        "            labels.append(line[1])\n",
        "        except Exception as e:\n",
        "            print(e)\n",
        "\n",
        "print(data[:3])\n",
        "print(labels[:3])"
      ],
      "metadata": {
        "colab": {
          "base_uri": "https://localhost:8080/"
        },
        "id": "Mru2AOPnrSH8",
        "outputId": "36e338a1-af70-49a0-cc3f-cce09db4c149"
      },
      "execution_count": 4,
      "outputs": [
        {
          "output_type": "stream",
          "name": "stdout",
          "text": [
            "[\"Egypt's top envoy in Iraq confirmed killed\", 'Carter: Race relations in Palestine are worse than apartheid', 'After Years Of Dutiful Service, The Shiba Who Ran A Tobacco Shop Retires']\n",
            "['0', '0', '1']\n"
          ]
        }
      ]
    },
    {
      "cell_type": "code",
      "source": [
        "%%time\n",
        "from sklearn.feature_extraction.text import TfidfVectorizer\n",
        "\n",
        "vectorizer = TfidfVectorizer()\n",
        "vectors = vectorizer.fit_transform(data)\n",
        "print(\"The dimensions of our vectors:\")\n",
        "print(vectors.shape)\n",
        "print(\"- - -\")"
      ],
      "metadata": {
        "colab": {
          "base_uri": "https://localhost:8080/"
        },
        "id": "4L6Xi0FXreMO",
        "outputId": "e0a16b6b-f42b-4108-ae7f-b949be728191"
      },
      "execution_count": 6,
      "outputs": [
        {
          "output_type": "stream",
          "name": "stdout",
          "text": [
            "The dimensions of our vectors:\n",
            "(10000, 13169)\n",
            "- - -\n",
            "CPU times: user 235 ms, sys: 3.16 ms, total: 238 ms\n",
            "Wall time: 366 ms\n"
          ]
        }
      ]
    },
    {
      "cell_type": "code",
      "source": [
        "print(\"The data type of our vectors\")\n",
        "print(type(vectors))\n",
        "print(\"- - -\")\n",
        "print(\"The size of our vectors (MB):\")\n",
        "print(vectors.data.nbytes/1024/1024)\n",
        "print(\"- - -\")\n",
        "print(\"The size of our vectors in dense format (MB):\")\n",
        "print(vectors.todense().nbytes/1024/1024)\n",
        "print(\"- - - \")\n",
        "print(\"Number of non zero elements in our vectors\")\n",
        "print(vectors.nnz)\n",
        "print(\"- - -\")"
      ],
      "metadata": {
        "colab": {
          "base_uri": "https://localhost:8080/"
        },
        "id": "fPkxs0Z6rmHw",
        "outputId": "0c86fb3f-b299-42f2-94f6-a3396dd5334a"
      },
      "execution_count": 7,
      "outputs": [
        {
          "output_type": "stream",
          "name": "stdout",
          "text": [
            "The data type of our vectors\n",
            "<class 'scipy.sparse._csr.csr_matrix'>\n",
            "- - -\n",
            "The size of our vectors (MB):\n",
            "0.6759414672851562\n",
            "- - -\n",
            "The size of our vectors in dense format (MB):\n",
            "1004.7149658203125\n",
            "- - - \n",
            "Number of non zero elements in our vectors\n",
            "88597\n",
            "- - -\n"
          ]
        }
      ]
    },
    {
      "cell_type": "code",
      "source": [
        "from sklearn.model_selection import train_test_split\n",
        "\n",
        "X_train, X_test, y_train, y_test = train_test_split(vectors,\n",
        "  labels, test_size=0.2)\n",
        "\n",
        "print(X_train.shape)\n",
        "print(X_test.shape)"
      ],
      "metadata": {
        "colab": {
          "base_uri": "https://localhost:8080/"
        },
        "id": "nYyW4VT9rpci",
        "outputId": "c3bf5bae-926d-42a6-a5a7-0b72c5fcb09a"
      },
      "execution_count": 8,
      "outputs": [
        {
          "output_type": "stream",
          "name": "stdout",
          "text": [
            "(8000, 13169)\n",
            "(2000, 13169)\n"
          ]
        }
      ]
    },
    {
      "cell_type": "code",
      "source": [
        "%%time\n",
        "\n",
        "from sklearn.svm import LinearSVC\n",
        "\n",
        "svm_classifier = LinearSVC()\n",
        "svm_classifier.fit(X_train, y_train)\n",
        "\n",
        "predictions = svm_classifier.predict(X_test)"
      ],
      "metadata": {
        "colab": {
          "base_uri": "https://localhost:8080/"
        },
        "id": "MAxPCtzarsKV",
        "outputId": "15db0910-3c52-433b-a75c-1a5adf055d62"
      },
      "execution_count": 9,
      "outputs": [
        {
          "output_type": "stream",
          "name": "stdout",
          "text": [
            "CPU times: user 243 ms, sys: 24.6 ms, total: 267 ms\n",
            "Wall time: 370 ms\n"
          ]
        }
      ]
    },
    {
      "cell_type": "code",
      "source": [
        "print(\"prediction, label\")\n",
        "for i in range(10):\n",
        "    print(y_test[i], predictions[i])"
      ],
      "metadata": {
        "colab": {
          "base_uri": "https://localhost:8080/"
        },
        "id": "r0RY7bw-rvDo",
        "outputId": "9d9c28a0-fada-4a91-c9e1-922984edf871"
      },
      "execution_count": 10,
      "outputs": [
        {
          "output_type": "stream",
          "name": "stdout",
          "text": [
            "prediction, label\n",
            "0 0\n",
            "1 1\n",
            "1 1\n",
            "0 0\n",
            "0 0\n",
            "0 0\n",
            "1 1\n",
            "1 1\n",
            "0 0\n",
            "1 1\n"
          ]
        }
      ]
    },
    {
      "cell_type": "code",
      "source": [
        "from sklearn.metrics import accuracy_score, classification_report\n",
        "\n",
        "print(\"Accuracy: {}\\n\".format(accuracy_score(y_test, predictions)))\n",
        "print(classification_report(y_test, predictions))"
      ],
      "metadata": {
        "colab": {
          "base_uri": "https://localhost:8080/"
        },
        "id": "7EWDnjvyryPW",
        "outputId": "60506070-b18a-407c-ffad-11056a29e0e9"
      },
      "execution_count": 11,
      "outputs": [
        {
          "output_type": "stream",
          "name": "stdout",
          "text": [
            "Accuracy: 0.966\n",
            "\n",
            "              precision    recall  f1-score   support\n",
            "\n",
            "           0       0.94      0.99      0.97       988\n",
            "           1       0.99      0.94      0.97      1012\n",
            "\n",
            "    accuracy                           0.97      2000\n",
            "   macro avg       0.97      0.97      0.97      2000\n",
            "weighted avg       0.97      0.97      0.97      2000\n",
            "\n"
          ]
        }
      ]
    }
  ]
}