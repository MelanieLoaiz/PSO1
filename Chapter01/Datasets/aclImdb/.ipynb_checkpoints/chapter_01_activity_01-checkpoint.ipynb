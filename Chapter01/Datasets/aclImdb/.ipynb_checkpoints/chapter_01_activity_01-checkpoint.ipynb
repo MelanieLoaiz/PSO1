{
 "cells": [
  {
   "cell_type": "markdown",
   "metadata": {},
   "source": [
    "In this activity, we will create another text classifier. Instead of training a machine learning model to discriminate between clickbait headlines and normal headlines, we will train a similar classifier to discriminate between positive and negative movie reviews.\n",
    "\n",
    "The objectives for our activity are \n",
    "* Vectorize the text of IMDB movie reviews and label these as Positive or Negative \n",
    "* Train an SVM classifier to predict whether a move review is Positive or Negative\n",
    "* Check how accurate our classifier is on a held-out test set\n",
    "* Evaluate our classifier on out-of-context data\n",
    "\n",
    "NOTE: as we will be using some randomizers in this activity, it is helpful to set the global random seeds to ensure that the results you see are the same as in the examples. Sklearn uses the numpy random seed, and we will also use the `shuffle` function from the built in random library. You can ensure you see the same results by adding the following code above your main code.\n",
    "\n",
    "```\n",
    "import random\n",
    "import numpy as np\n",
    "random.seed(1337)\n",
    "np.random.seed(1337)\n",
    "```\n",
    "\n",
    "1. Import the `os` library and `random` library from the Python namespace"
   ]
  },
  {
   "cell_type": "code",
   "execution_count": 52,
   "metadata": {},
   "outputs": [],
   "source": [
    "\n",
    "dataset_train_pos_path = \"train/pos\"\n",
    "dataset_train_neg_path = \"train/neg\"\n",
    "\n",
    "dataset_test_pos_path = \"test/pos\"\n",
    "dataset_test_neg_path = \"test/neg\"\n",
    "\n",
    "\n",
    "def read_dataset(dataset_path, label):\n",
    "    contents_labels = []\n",
    "    files = os.listdir(dataset_path)\n",
    "    for fn in files:\n",
    "        path = os.path.join(dataset_path, fn)\n",
    "        with open(path) as f:\n",
    "            s = f.read()\n",
    "            contents_labels.append((s, label))\n",
    "    return contents_labels\n",
    "        \n",
    "    \n",
    "train_pos = read_dataset(dataset_train_pos_path, \"pos\")\n",
    "train_neg = read_dataset(dataset_train_neg_path, \"neg\")\n",
    "\n",
    "test_pos = read_dataset(dataset_test_pos_path, \"pos\")\n",
    "test_neg = read_dataset(dataset_test_neg_path, \"neg\")\n",
    "\n",
    "train = train_pos + train_neg\n",
    "test = test_pos + test_neg\n",
    "\n",
    "random.shuffle(train)\n",
    "random.shuffle(test)\n",
    "\n",
    "train_data, y_train = zip(*train)\n",
    "test_data, y_test = zip(*test)\n",
    "    "
   ]
  },
  {
   "cell_type": "code",
   "execution_count": 53,
   "metadata": {},
   "outputs": [
    {
     "name": "stdout",
     "output_type": "stream",
     "text": [
      "The dimensions of our vectors:\n",
      "(25000, 74849)\n",
      "- - -\n",
      "CPU times: user 11.3 s, sys: 196 ms, total: 11.5 s\n",
      "Wall time: 11.6 s\n"
     ]
    }
   ],
   "source": [
    "%%time\n",
    "from sklearn.feature_extraction.text import TfidfVectorizer\n",
    "\n",
    "vectorizer = TfidfVectorizer()\n",
    "X_train = vectorizer.fit_transform(train_data)\n",
    "X_test = vectorizer.transform(test_data)\n",
    "print(\"The dimensions of our vectors:\")\n",
    "print(X_train.shape)\n",
    "print(\"- - -\")\n"
   ]
  },
  {
   "cell_type": "code",
   "execution_count": 54,
   "metadata": {},
   "outputs": [
    {
     "name": "stdout",
     "output_type": "stream",
     "text": [
      "CPU times: user 636 ms, sys: 13.6 ms, total: 650 ms\n",
      "Wall time: 664 ms\n"
     ]
    }
   ],
   "source": [
    "%%time\n",
    "\n",
    "from sklearn.svm import LinearSVC\n",
    "\n",
    "svm_classifier = LinearSVC()\n",
    "svm_classifier.fit(X_train, y_train)\n",
    "\n",
    "predictions = svm_classifier.predict(X_test)"
   ]
  },
  {
   "cell_type": "code",
   "execution_count": 55,
   "metadata": {},
   "outputs": [
    {
     "name": "stdout",
     "output_type": "stream",
     "text": [
      "Accuracy: 0.8772\n",
      "\n",
      "              precision    recall  f1-score   support\n",
      "\n",
      "         neg       0.87      0.89      0.88     12500\n",
      "         pos       0.89      0.87      0.88     12500\n",
      "\n",
      "    accuracy                           0.88     25000\n",
      "   macro avg       0.88      0.88      0.88     25000\n",
      "weighted avg       0.88      0.88      0.88     25000\n",
      "\n"
     ]
    }
   ],
   "source": [
    "from sklearn.metrics import accuracy_score, classification_report\n",
    "\n",
    "print(\"Accuracy: {}\\n\".format(accuracy_score(y_test, predictions)))\n",
    "print(classification_report(y_test, predictions))\n"
   ]
  },
  {
   "cell_type": "code",
   "execution_count": 57,
   "metadata": {},
   "outputs": [
    {
     "name": "stdout",
     "output_type": "stream",
     "text": [
      "['pos' 'neg']\n"
     ]
    }
   ],
   "source": [
    "good_review = \"The restaurant was really great! I ate wonderful food and had a very good time\"\n",
    "bad_review = \"The restuarant was awful. The staff were rude and the food was horrible. I hated it\"\n",
    "\n",
    "restuarant_reviews = [good_review, bad_review]\n",
    "vectors = vectorizer.transform(restuarant_reviews)\n",
    "print(svm_classifier.predict(vectors))"
   ]
  },
  {
   "cell_type": "code",
   "execution_count": null,
   "metadata": {},
   "outputs": [],
   "source": []
  }
 ],
 "metadata": {
  "kernelspec": {
   "display_name": "Python 3",
   "language": "python",
   "name": "python3"
  },
  "language_info": {
   "codemirror_mode": {
    "name": "ipython",
    "version": 3
   },
   "file_extension": ".py",
   "mimetype": "text/x-python",
   "name": "python",
   "nbconvert_exporter": "python",
   "pygments_lexer": "ipython3",
   "version": "3.7.6"
  }
 },
 "nbformat": 4,
 "nbformat_minor": 2
}
